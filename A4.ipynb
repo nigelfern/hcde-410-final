{
 "cells": [
  {
   "cell_type": "markdown",
   "id": "fe44f002-aaaf-4b01-b365-ffc46e4c1574",
   "metadata": {},
   "source": [
    "# A5 Final Project Plan"
   ]
  },
  {
   "cell_type": "markdown",
   "id": "6d853066-b06f-4743-9f8c-75d4d13a2421",
   "metadata": {},
   "source": [
    "For my project, I plan on analyzing access to food and data on the American agricultural supply chain. I hope to use the analysis to learn more about the prevalence of food insecurity in the country and study trends of manutrition and various deficiencies across demographic groups. I want to look more into how nutrional patterns and access to food present itself in various communities and socioeconomic groups. My goal is to be able to identify certain trends about food insecurity, draw out barriers causing food inequity, and gain a better understanding of how food access can be improved."
   ]
  },
  {
   "cell_type": "markdown",
   "id": "9319358e-5eb4-4fe0-b874-68d8670b1cc6",
   "metadata": {},
   "source": [
    "I plan on using a dataset from FoodData Central hosted on the US Department of Agriculture website. The dataset contains nutrional data for the whole country and breaks down the data into several types to help researchers draw out their findings. Data types include: Foundation Foods, Experimental Foods, Branded Foods, and a collection of data from the Food and Nutrient Database for Dietary Studies. This is a suitable dataset for my research goal because it contains a broad catalog of nutrional data and data on how food is consumed and produced in the country and will help me connect nutrional patterns to demographic trends. In terms of licensing, USDA food composition data are in the public domain and they are not copyrighted. No permission is needed for their use. USDA requests that developers list FoodData Central as the source of the data. If made into a product, USDA asks see the product that uilizes the data or be notified of its use. Here is the dataset download link: https://fdc.nal.usda.gov/download-datasets.html \n",
    "\n",
    "The main unknowns in this project are performing analysis and cleaning of this large of a dataset since this can be a tricky process. I may also struggle with finding effective ways to visualize and present the data and my findings. However, I have no major predicted obstacles that will prevent me from completing the project in the time provided."
   ]
  },
  {
   "cell_type": "markdown",
   "id": "7b0d914b-e7c1-48b8-aef5-1e600fdb13f0",
   "metadata": {},
   "source": [
    "Research Question: How do nutrional and demographic patterns in the United States impact food inequity and barriers to food access?\n",
    "\n",
    "Hypothesis: Low-income households in the United States (less than 50,000 per year) are associated with a 50% higher risk of having one or more micornutrient deficiency."
   ]
  },
  {
   "cell_type": "markdown",
   "id": "f1141f3c-0cce-4eef-87a0-06e54f1e393c",
   "metadata": {},
   "source": [
    "### Background Work"
   ]
  },
  {
   "cell_type": "markdown",
   "id": "888c6c25-6776-4f9a-bec1-de0f7fab3174",
   "metadata": {},
   "source": [
    "Food security in the United States and the country's nutrional patterns are already a well-researched and thorougly studied phenomenon. However, there are many understudied intersections of demographic data can be associated with tendencies of malnutrition or good nutrional health in  various communities. I hope to look into these more nuanced intersections and build off of similar studies to uncover new patterns and indicators of poor access to food. \n",
    "\n",
    "Some major studies on food security include the United States Department of Agriculture's report of Household Food Securities in the US. Some of its findings were that \"88.9 percent of U.S. households were food secure throughout the entire year\", \"the typical food-secure household spent 21 percent more on food than the typical food-insecure household of the same size and household composition\", and that \"about 56 percent of food-insecure households participated in one or more of the three largest Federal food and nutrition assistance programs\" (Coleman-Jensen et al.).\n",
    "\n",
    "The website http://map.feedingamerica.org/ has a thorough breakdown of more general data and shows a heatmap of the country that highlights specific areas where food insecurity presents itself more frequently. It includes data such as the average meal cost, the annual food budget shortfall, and the estimated food program eligibility amond food-insecure people in the US. It presents the data effectively and allows the viewer to highlight certain states, cities, and counties in the map.\n",
    "\n",
    "References and Resources\n",
    "\n",
    "Coleman-Jensen, Alisha, Matthew P. Rabbitt, Christian A. Gregory, and Anita Singh.\n",
    "2019. Household Food Security in the United States in 2018, ERR-270, U.S. Department\n",
    "of Agriculture, Economic Research Service.\n",
    "\n",
    "https://hungerandhealth.feedingamerica.org/understand-food-insecurity/\n",
    "\n",
    "http://map.feedingamerica.org/\n",
    "\n",
    "https://www.healthypeople.gov/2020/topics-objectives/topic/social-determinants-health/interventions-resources/food-insecurity"
   ]
  },
  {
   "cell_type": "markdown",
   "id": "8fd922a7-2b47-4bc1-b724-85a6f8ed0437",
   "metadata": {},
   "source": [
    "### Methodology"
   ]
  },
  {
   "cell_type": "markdown",
   "id": "6b5b3f13-1805-4682-b196-e10af6f9d9da",
   "metadata": {},
   "source": [
    "The main analysis methods for this project will be utilizing cluster analysis and regression anaylsis. I plan to use k-means clustering to group together demographic populations and compare them. I will also use a regressional analysis method like least squares to determine how dependent variables affect the independent variables. Variables will likely include income level, ethnicity, nutrional deficiencies, city, and money spent on food. \n",
    "\n",
    "I plan on using a combination of various data visualizations to present my work. Demographic data will be presented in bar charts, histograms, and pie charts. Multiple regression results will be presented with scatter plots and line graphs to best show correlations. I may also use a heatmap to demonstrate frequency of food insecurity in various geographic locations in the United States. Using a variety of types of visualizations will be appropriate because it will allow me to use the format that most effectively tells the story of the data being presented. Since I will be studying several variables, they will all differ in how they apply to the real world. The demographic statistics that represent a proportion will be best shown in pie charts, while correlations between income levels and a demographic variable will best be shown in a line graph."
   ]
  },
  {
   "cell_type": "code",
   "execution_count": null,
   "id": "07d298b7-d33b-45db-8ca0-c0bc730719f5",
   "metadata": {},
   "outputs": [],
   "source": []
  }
 ],
 "metadata": {
  "kernelspec": {
   "display_name": "Python 3",
   "language": "python",
   "name": "python3"
  },
  "language_info": {
   "codemirror_mode": {
    "name": "ipython",
    "version": 3
   },
   "file_extension": ".py",
   "mimetype": "text/x-python",
   "name": "python",
   "nbconvert_exporter": "python",
   "pygments_lexer": "ipython3",
   "version": "3.8.8"
  }
 },
 "nbformat": 4,
 "nbformat_minor": 5
}
